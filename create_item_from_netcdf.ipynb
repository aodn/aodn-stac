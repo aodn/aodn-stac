{
 "cells": [
  {
   "cell_type": "code",
   "execution_count": 1,
   "metadata": {},
   "outputs": [],
   "source": [
    "import fsspec\n",
    "import xarray as xr\n",
    "\n",
    "import pystac\n",
    "from datetime import datetime"
   ]
  },
  {
   "cell_type": "code",
   "execution_count": 2,
   "metadata": {},
   "outputs": [],
   "source": [
    "# Locations for where the data is. Each .nc file can be a STAC Item\n",
    "BUCKET = \"imos-data\"\n",
    "PATH = \"IMOS/Argo/aggregated_datasets/south_pacific\""
   ]
  },
  {
   "cell_type": "code",
   "execution_count": 3,
   "metadata": {},
   "outputs": [],
   "source": [
    "# Use FSSpec to get a list of files in the bucket at the path\n",
    "fs = fsspec.filesystem('s3', anon=True)\n",
    "files = ['s3://' + f for f in fs.glob(f\"s3://{BUCKET}/{PATH}/*.nc\")]\n",
    "\n",
    "# Pick one to ply with\n",
    "file = files[0]"
   ]
  },
  {
   "cell_type": "code",
   "execution_count": 4,
   "metadata": {},
   "outputs": [],
   "source": [
    "# FSSpec is being used to read data from S3\n",
    "options = dict(\n",
    "    mode=\"rb\",\n",
    "    anon=True,\n",
    "    default_fill_cache=False,\n",
    "    default_cache_type=\"none\"\n",
    ")\n",
    "\n",
    "# This is slow... maybe the NetCDF4 library can be used instead\n",
    "with fsspec.open(file, **options) as f:\n",
    "    data = xr.open_dataset(f)"
   ]
  },
  {
   "cell_type": "code",
   "execution_count": 5,
   "metadata": {},
   "outputs": [],
   "source": [
    "def get_extent_geojson(data):\n",
    "    \"\"\"Get GeoJSON extent from xarray dataset. Probably will only work for Argo\"\"\"\n",
    "    min_x = float(data.LONGITUDE.min())\n",
    "    max_x = float(data.LONGITUDE.max())\n",
    "    min_y = float(data.LATITUDE.min())\n",
    "    max_y = float(data.LATITUDE.max())\n",
    "\n",
    "    extent = {\n",
    "        \"type\": \"Polygon\",\n",
    "        \"coordinates\": [\n",
    "            [\n",
    "                [min_x, min_y],\n",
    "                [min_x, max_y],\n",
    "                [max_x, max_y],\n",
    "                [max_x, min_y],\n",
    "                [min_x, min_y],            \n",
    "            ]\n",
    "        ],\n",
    "    }\n",
    "\n",
    "    bbox = [min_x, min_y, max_x, max_y]\n",
    "\n",
    "    return extent, bbox\n",
    "\n",
    "def np_dt64_to_dt(in_datetime):\n",
    "    \"\"\"Convert numpy datetime64 to datetime\"\"\"\n",
    "    return datetime.fromtimestamp(in_datetime.astype(int) / 1e9).strftime(\"%Y-%m-%dT%H:%M:%SZ\")\n"
   ]
  },
  {
   "cell_type": "code",
   "execution_count": 6,
   "metadata": {},
   "outputs": [
    {
     "name": "stderr",
     "output_type": "stream",
     "text": [
      "<ipython-input-5-9d62554fced5>:27: DeprecationWarning: an integer is required (got type DataArray).  Implicit conversion to integers using __int__ is deprecated, and may be removed in a future version of Python.\n",
      "  return datetime.fromtimestamp(in_datetime.astype(int) / 1e9).strftime(\"%Y-%m-%dT%H:%M:%SZ\")\n",
      "<ipython-input-5-9d62554fced5>:27: DeprecationWarning: an integer is required (got type DataArray).  Implicit conversion to integers using __int__ is deprecated, and may be removed in a future version of Python.\n",
      "  return datetime.fromtimestamp(in_datetime.astype(int) / 1e9).strftime(\"%Y-%m-%dT%H:%M:%SZ\")\n"
     ]
    },
    {
     "data": {
      "text/plain": [
       "['https://schemas.stacspec.org/v1.0.0/item-spec/json-schema/item.json']"
      ]
     },
     "execution_count": 6,
     "metadata": {},
     "output_type": "execute_result"
    }
   ],
   "source": [
    "# Load the collection so we have a reference\n",
    "collection = pystac.Collection.from_file(\"4402cb50-e20a-44ee-93e6-4728259250d2_stac-collection.json\")\n",
    "\n",
    "# Geometry stuff\n",
    "extent, bbox = get_extent_geojson(data)\n",
    "\n",
    "# This can have anything in it. The start and end dates are required.\n",
    "properties = dict(\n",
    "    start_datetime=np_dt64_to_dt(data.JULD.min()),\n",
    "    end_datetime=np_dt64_to_dt(data.JULD.max()),\n",
    "    description=data.attrs[\"description\"],\n",
    ")\n",
    "\n",
    "# Create the actual item\n",
    "item = pystac.Item(\n",
    "    id=file.split(\"/\")[-1].rstrip(\".nc\"),\n",
    "    geometry=extent,\n",
    "    properties=properties,\n",
    "    bbox=bbox,\n",
    "    datetime=None,\n",
    "    collection=collection\n",
    ")\n",
    "\n",
    "# This should be real... and we should really put it on S3 too\n",
    "item.set_self_href(file.replace(\".nc\", \"_stac-item.json\"))\n",
    "\n",
    "# An asset is the actual data file\n",
    "asset = pystac.Asset(\n",
    "    href=file,\n",
    "    media_type=\"application/x-netcdf\",\n",
    "    roles=[\"data\"]\n",
    ")\n",
    "item.add_asset(file, asset)\n",
    "\n",
    "# Validate what we're doing, hopefully it passes!\n",
    "item.validate()"
   ]
  },
  {
   "cell_type": "code",
   "execution_count": 7,
   "metadata": {},
   "outputs": [],
   "source": [
    "# And write to file.\n",
    "item.save_object(dest_href=f\"./{file.split('/')[-1].replace('.nc', '_stac-item')}.json\")"
   ]
  }
 ],
 "metadata": {
  "kernelspec": {
   "display_name": "Python 3.9.13 64-bit",
   "language": "python",
   "name": "python3"
  },
  "language_info": {
   "codemirror_mode": {
    "name": "ipython",
    "version": 3
   },
   "file_extension": ".py",
   "mimetype": "text/x-python",
   "name": "python",
   "nbconvert_exporter": "python",
   "pygments_lexer": "ipython3",
   "version": "3.9.13"
  },
  "orig_nbformat": 4,
  "vscode": {
   "interpreter": {
    "hash": "aee8b7b246df8f9039afb4144a1f6fd8d2ca17a180786b69acc140d282b71a49"
   }
  }
 },
 "nbformat": 4,
 "nbformat_minor": 2
}
