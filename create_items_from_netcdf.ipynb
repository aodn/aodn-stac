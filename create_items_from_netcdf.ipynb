{
 "cells": [
  {
   "cell_type": "code",
   "execution_count": 1,
   "metadata": {},
   "outputs": [],
   "source": [
    "import fsspec\n",
    "from pathlib import Path\n",
    "\n",
    "from aodn_stac import create_item_from_netcdf, read_dataset_inmemory"
   ]
  },
  {
   "cell_type": "code",
   "execution_count": 2,
   "metadata": {},
   "outputs": [],
   "source": [
    "# Locations for where the data is. Each .nc file can be a STAC Item\n",
    "BUCKET = \"imos-data\"\n",
    "PATH = \"IMOS/Argo/aggregated_datasets/south_pacific\"\n",
    "COLLECTION_NAME = \"IMOS_Argo_South_Pacific\""
   ]
  },
  {
   "cell_type": "markdown",
   "metadata": {},
   "source": []
  },
  {
   "cell_type": "code",
   "execution_count": 3,
   "metadata": {},
   "outputs": [
    {
     "data": {
      "text/plain": [
       "'s3://imos-data/IMOS/Argo/aggregated_datasets/south_pacific/IMOS_Argo_TPS-20000101T000000_FV01_yearly-aggregation-South_Pacific_C-20130501T180000Z.nc'"
      ]
     },
     "execution_count": 3,
     "metadata": {},
     "output_type": "execute_result"
    }
   ],
   "source": [
    "# Use FSSpec to get a list of files in the bucket at the path\n",
    "fs = fsspec.filesystem('s3', anon=True)\n",
    "files = ['s3://' + f for f in fs.glob(f\"s3://{BUCKET}/{PATH}/*.nc\")]\n",
    "files[0]\n"
   ]
  },
  {
   "cell_type": "code",
   "execution_count": 4,
   "metadata": {},
   "outputs": [],
   "source": [
    "for file in files:\n",
    "    output_location = Path(\"./documents/\") / COLLECTION_NAME\n",
    "    collection_file = str(output_location) + \"_stac-collection.json\"\n",
    "    \n",
    "    item = create_item_from_netcdf(file, collection_file)\n",
    "\n",
    "    if item is not None:\n",
    "        item.save_object(dest_href=str(output_location / item.id) + \"_stac-item.json\")"
   ]
  },
  {
   "cell_type": "code",
   "execution_count": 5,
   "metadata": {},
   "outputs": [],
   "source": [
    "# And write to file.\n",
    "item.save_object(dest_href=f\"./{file.split('/')[-1].replace('.nc', '_stac-item')}.json\")"
   ]
  }
 ],
 "metadata": {
  "kernelspec": {
   "display_name": "Python 3.9.13 64-bit",
   "language": "python",
   "name": "python3"
  },
  "language_info": {
   "codemirror_mode": {
    "name": "ipython",
    "version": 3
   },
   "file_extension": ".py",
   "mimetype": "text/x-python",
   "name": "python",
   "nbconvert_exporter": "python",
   "pygments_lexer": "ipython3",
   "version": "3.9.13"
  },
  "orig_nbformat": 4,
  "vscode": {
   "interpreter": {
    "hash": "aee8b7b246df8f9039afb4144a1f6fd8d2ca17a180786b69acc140d282b71a49"
   }
  }
 },
 "nbformat": 4,
 "nbformat_minor": 2
}
