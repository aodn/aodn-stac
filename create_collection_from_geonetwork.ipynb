{
 "cells": [
  {
   "cell_type": "code",
   "execution_count": 1,
   "metadata": {},
   "outputs": [],
   "source": [
    "import requests\n",
    "import toolz\n",
    "from datetime import datetime\n",
    "import pystac\n",
    "\n",
    "from pathlib import Path"
   ]
  },
  {
   "cell_type": "code",
   "execution_count": 2,
   "metadata": {},
   "outputs": [],
   "source": [
    "# Catalog and dataset ID (for Argo)\n",
    "GEONETWORK = \"https://catalogue-imos.aodn.org.au/geonetwork/srv/api/0.1/records/{dataset}/formatters/json\"\n",
    "DATASET = \"4402cb50-e20a-44ee-93e6-4728259250d2\"\n",
    "COLLECTION_NAME = \"IMOS_Argo_South_Pacific\""
   ]
  },
  {
   "cell_type": "code",
   "execution_count": 3,
   "metadata": {},
   "outputs": [],
   "source": [
    "#curl -X GET \"https://catalogue-imos.aodn.org.au/geonetwork/srv/api/0.1/records/4402cb50-e20a-44ee-93e6-4728259250d2/formatters/json\" \n",
    "# -H \"accept: application/json;charset=utf-8\"\n",
    "\n",
    "# Geonetwork is funny how it wants us to use HTTP stuff and not URL Parameters\n",
    "headers = {\n",
    "    \"Accept\": \"application/json\",\n",
    "}\n",
    "\n",
    "\n",
    "response = requests.get(GEONETWORK.format(dataset=DATASET), headers=headers)\n",
    "full_document = response.json()"
   ]
  },
  {
   "cell_type": "code",
   "execution_count": 4,
   "metadata": {},
   "outputs": [],
   "source": [
    "# Dump the Geonetwork document to a file for reference\n",
    "# import fsspec\n",
    "# with fsspec.open(f\"{DATASET}.json\", \"wb\") as f:\n",
    "#     f.write(response.content)"
   ]
  },
  {
   "cell_type": "code",
   "execution_count": 4,
   "metadata": {},
   "outputs": [],
   "source": [
    "def geojson_polygon_coordinate_array(geometry):\n",
    "    # a geojson polygon from gml vertices list\n",
    "    # does not support holes\n",
    "    crazy_nesting = [\n",
    "        \"gex:EX_BoundingPolygon\",\n",
    "        \"gex:polygon\",\n",
    "        \"gml:MultiSurface\",\n",
    "        \"gml:surfaceMember\",\n",
    "        \"gml:Polygon\",\n",
    "        \"gml:exterior\",\n",
    "        \"gml:LinearRing\",\n",
    "        \"gml:posList\",\n",
    "        \"#text\"\n",
    "    ]\n",
    "    coords = toolz.get_in(crazy_nesting, geometry)\n",
    "    gml_vertices_list = [float(x) for x in coords.split(\" \")]\n",
    "    vertices = [[gml_vertices_list[i], gml_vertices_list[i + 1]] for i in range(0, len(gml_vertices_list), 2)]\n",
    "    return [vertices]\n",
    "\n",
    "\n",
    "def geojson_multipolygon(geometries):\n",
    "    # a geojson multipolygon from xml geometries\n",
    "    multipolygon = {\n",
    "        \"type\": \"MultiPolygon\",\n",
    "        \"coordinates\": [\n",
    "            geojson_polygon_coordinate_array(g) for g in geometries\n",
    "        ]\n",
    "    }\n",
    "    return multipolygon\n",
    "\n",
    "def extract_date(gml_time):\n",
    "    # See if we havd a nil reason\n",
    "    datetime_string = toolz.get_in(['gml:TimeInstant', 'gml:timePosition'], gml_time)\n",
    "    if datetime_string is not None:\n",
    "        return datetime(*[int(x) for x in datetime_string.split(\"-\")])\n",
    "    else:\n",
    "        return None\n"
   ]
  },
  {
   "cell_type": "code",
   "execution_count": 5,
   "metadata": {},
   "outputs": [],
   "source": [
    "gml_extent = toolz.get_in([\"mdb:identificationInfo\", \"mri:MD_DataIdentification\", \"mri:extent\"], full_document, no_default=True)[0][\"gex:EX_Extent\"]\n",
    "spatial_extent = pystac.SpatialExtent([geojson_polygon_coordinate_array(geometry) for geometry in gml_extent[\"gex:geographicElement\"]])\n",
    "gml_time = toolz.get_in([\"gex:temporalElement\", 'gex:EX_TemporalExtent', 'gex:extent', 'gml:TimePeriod'], gml_extent, no_default=True)\n",
    "start_time = extract_date(gml_time[\"gml:begin\"])\n",
    "end_time = extract_date(gml_time[\"gml:end\"])\n",
    "temporal_extent = pystac.TemporalExtent([[start_time, end_time]])"
   ]
  },
  {
   "cell_type": "code",
   "execution_count": 6,
   "metadata": {},
   "outputs": [],
   "source": [
    "# Let's extract all the links from the GN document\n",
    "distribution = toolz.get_in([\"mdb:distributionInfo\", 'mrd:MD_Distribution', 'mrd:transferOptions', 'mrd:MD_DigitalTransferOptions', 'mrd:onLine'], full_document, no_default=True)\n",
    "links = []\n",
    "for option in distribution:\n",
    "    target = toolz.get_in(['cit:CI_OnlineResource','cit:linkage', 'gco:CharacterString', \"#text\"], option, no_default=True)\n",
    "    name = toolz.get_in(['cit:CI_OnlineResource','cit:name', 'gco:CharacterString', \"#text\"], option, no_default=True)\n",
    "\n",
    "    links.append(pystac.Link(\n",
    "        target=target,\n",
    "        title=name,\n",
    "        rel=pystac.RelType.ALTERNATE\n",
    "        )\n",
    "    )"
   ]
  },
  {
   "cell_type": "code",
   "execution_count": 7,
   "metadata": {},
   "outputs": [
    {
     "data": {
      "text/plain": [
       "['https://schemas.stacspec.org/v1.0.0/collection-spec/json-schema/collection.json']"
      ]
     },
     "execution_count": 7,
     "metadata": {},
     "output_type": "execute_result"
    }
   ],
   "source": [
    "data_doc = toolz.get_in([\"mdb:identificationInfo\", \"mri:MD_DataIdentification\"], full_document)\n",
    "abstract = toolz.get_in([\"mri:abstract\", \"gco:CharacterString\", \"#text\"], data_doc, no_default=True)\n",
    "title = toolz.get_in([\"mri:citation\", \"cit:CI_Citation\", \"cit:title\", \"gco:CharacterString\", \"#text\"], data_doc, no_default=True)\n",
    "\n",
    "# Turns out our extent is too precise... might need to think about this\n",
    "extent = pystac.Extent(\n",
    "    spatial=pystac.SpatialExtent([[-180, -90, 180, 90]]),\n",
    "    temporal=temporal_extent\n",
    ")\n",
    "\n",
    "links.append(\n",
    "    pystac.Link(\n",
    "        target=f\"https://catalogue-imos.aodn.org.au/geonetwork/srv/eng/catalog.search#/metadata/{DATASET}\",\n",
    "        title=\"Human readable dataset overview and reference\",\n",
    "        rel=\"describedby\"\n",
    "    )\n",
    ")\n",
    "\n",
    "assets = []\n",
    "\n",
    "collection = pystac.Collection(\n",
    "    id=COLLECTION_NAME,\n",
    "    description=abstract,\n",
    "    extent=extent,\n",
    "    title=title,\n",
    "    license=\"CC-BY-4.0\",\n",
    "    extra_fields={\n",
    "        \"imos_id\": DATASET,\n",
    "    }\n",
    ")\n",
    "\n",
    "collection.add_links(links)\n",
    "for asset in assets:\n",
    "    collection.add_asset(asset)\n",
    "\n",
    "collection.set_self_href(f\"https://catalogue-imos.aodn.org.au/stac/{COLLECTION_NAME}/\")\n",
    "\n",
    "collection.validate()"
   ]
  },
  {
   "cell_type": "code",
   "execution_count": 8,
   "metadata": {},
   "outputs": [],
   "source": [
    "dest_path = Path(\"./documents\") / COLLECTION_NAME\n",
    "dest_file = str(dest_path) + \"_stac-collection.json\"\n",
    "\n",
    "if not dest_path.exists():\n",
    "    dest_path.mkdir(parents=True)\n",
    "\n",
    "collection.save_object(dest_href=dest_file)\n"
   ]
  },
  {
   "cell_type": "code",
   "execution_count": 10,
   "metadata": {},
   "outputs": [],
   "source": [
    "# Make sure we can load as a smoke test\n",
    "collection = pystac.Collection.from_file(\"4402cb50-e20a-44ee-93e6-4728259250d2_stac-collection.json\")\n"
   ]
  }
 ],
 "metadata": {
  "kernelspec": {
   "display_name": "Python 3.9.13 64-bit",
   "language": "python",
   "name": "python3"
  },
  "language_info": {
   "codemirror_mode": {
    "name": "ipython",
    "version": 3
   },
   "file_extension": ".py",
   "mimetype": "text/x-python",
   "name": "python",
   "nbconvert_exporter": "python",
   "pygments_lexer": "ipython3",
   "version": "3.9.13"
  },
  "orig_nbformat": 4,
  "vscode": {
   "interpreter": {
    "hash": "aee8b7b246df8f9039afb4144a1f6fd8d2ca17a180786b69acc140d282b71a49"
   }
  }
 },
 "nbformat": 4,
 "nbformat_minor": 2
}
